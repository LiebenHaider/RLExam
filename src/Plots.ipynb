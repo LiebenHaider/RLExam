{
 "cells": [
  {
   "cell_type": "code",
   "execution_count": 79,
   "id": "e9c55c94",
   "metadata": {},
   "outputs": [
    {
     "name": "stdout",
     "output_type": "stream",
     "text": [
      "The autoreload extension is already loaded. To reload it, use:\n",
      "  %reload_ext autoreload\n"
     ]
    }
   ],
   "source": [
    "%load_ext autoreload\n",
    "%autoreload 2\n",
    "import torch\n",
    "from augment import *"
   ]
  },
  {
   "cell_type": "code",
   "execution_count": 80,
   "id": "4664ace5",
   "metadata": {},
   "outputs": [],
   "source": [
    "space = AugmentationSpace()"
   ]
  },
  {
   "cell_type": "code",
   "execution_count": 81,
   "id": "55b2bc09",
   "metadata": {},
   "outputs": [],
   "source": [
    "test_data = torch.rand((10, 3, 32, 32))"
   ]
  },
  {
   "cell_type": "code",
   "execution_count": 82,
   "id": "7dcec684",
   "metadata": {},
   "outputs": [],
   "source": [
    "policy = [\n",
    "    [  # Sub-policy 1\n",
    "        {'operation': 5, 'magnitude': 3, 'probability': 0.7},  # Cutout at 70%\n",
    "        {'operation': 3, 'magnitude': 2, 'probability': 0.8}   # Shear_x at 80%\n",
    "    ],\n",
    "    [  # Sub-policy 2\n",
    "        {'operation': 1, 'magnitude': 4, 'probability': 0.3},  # Translate_x at 30%\n",
    "        {'operation': 3, 'magnitude': 1, 'probability': 0.9}   # Brightness at 90%\n",
    "    ]\n",
    "]"
   ]
  },
  {
   "cell_type": "code",
   "execution_count": 83,
   "id": "4f5d98d5",
   "metadata": {},
   "outputs": [
    {
     "data": {
      "text/plain": [
       "torch.Size([10, 3, 32, 32])"
      ]
     },
     "execution_count": 83,
     "metadata": {},
     "output_type": "execute_result"
    }
   ],
   "source": [
    "augmented_data = apply_auto_augmentations(test_data, policy, space)\n",
    "augmented_data.shape"
   ]
  },
  {
   "cell_type": "code",
   "execution_count": 85,
   "id": "a0d4ce8a",
   "metadata": {},
   "outputs": [
    {
     "data": {
      "text/plain": [
       "torch.Size([10, 3, 32, 32])"
      ]
     },
     "execution_count": 85,
     "metadata": {},
     "output_type": "execute_result"
    }
   ],
   "source": [
    "augmented_data = apply_random_augmentations(test_data, space)\n",
    "augmented_data.shape"
   ]
  }
 ],
 "metadata": {
  "kernelspec": {
   "display_name": "Standardenv",
   "language": "python",
   "name": "python3"
  },
  "language_info": {
   "codemirror_mode": {
    "name": "ipython",
    "version": 3
   },
   "file_extension": ".py",
   "mimetype": "text/x-python",
   "name": "python",
   "nbconvert_exporter": "python",
   "pygments_lexer": "ipython3",
   "version": "3.12.7"
  }
 },
 "nbformat": 4,
 "nbformat_minor": 5
}
