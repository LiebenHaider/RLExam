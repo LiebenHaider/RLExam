{
 "cells": [
  {
   "cell_type": "code",
   "execution_count": 15,
   "id": "dee8d338",
   "metadata": {},
   "outputs": [],
   "source": [
    "import os\n",
    "import torch\n",
    "\n",
    "from resnet import ResNet18"
   ]
  },
  {
   "cell_type": "code",
   "execution_count": 16,
   "id": "5420d7e7",
   "metadata": {},
   "outputs": [],
   "source": [
    "test_data = torch.rand((3, 32, 32))\n",
    "resnet = ResNet18()\n",
    "out = resnet(test_data.unsqueeze(0))"
   ]
  }
 ],
 "metadata": {
  "kernelspec": {
   "display_name": "Standardenv",
   "language": "python",
   "name": "python3"
  },
  "language_info": {
   "codemirror_mode": {
    "name": "ipython",
    "version": 3
   },
   "file_extension": ".py",
   "mimetype": "text/x-python",
   "name": "python",
   "nbconvert_exporter": "python",
   "pygments_lexer": "ipython3",
   "version": "3.12.7"
  }
 },
 "nbformat": 4,
 "nbformat_minor": 5
}
